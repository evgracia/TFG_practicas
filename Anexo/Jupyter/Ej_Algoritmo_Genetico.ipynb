{
  "nbformat": 4,
  "nbformat_minor": 0,
  "metadata": {
    "colab": {
      "name": "Ej_Algoritmo_Genetico.ipynb",
      "provenance": [],
      "collapsed_sections": [
        "YrmudWVrT2VB",
        "2tp6pZ53VBSi"
      ],
      "authorship_tag": "ABX9TyNMe3Kktwoxzky6OKp84HO+",
      "include_colab_link": true
    },
    "kernelspec": {
      "display_name": "Python 3",
      "name": "python3"
    },
    "language_info": {
      "name": "python"
    }
  },
  "cells": [
    {
      "cell_type": "markdown",
      "metadata": {
        "id": "view-in-github",
        "colab_type": "text"
      },
      "source": [
        "<a href=\"https://colab.research.google.com/github/evgracia/TFG_practicas/blob/main/Anexo/Jupyter/Ej_Algoritmo_Genetico.ipynb\" target=\"_parent\"><img src=\"https://colab.research.google.com/assets/colab-badge.svg\" alt=\"Open In Colab\"/></a>"
      ]
    },
    {
      "cell_type": "markdown",
      "metadata": {
        "id": "OUuJTE1j7rFO"
      },
      "source": [
        "Ejemplo de un:\n",
        "\n",
        "# $$\\; ALGORTIMO \\; GENETICO $$"
      ]
    },
    {
      "cell_type": "markdown",
      "metadata": {
        "id": "ZNlpiA6x_ta8"
      },
      "source": [
        "En este ejemplo se creará un algoritmo genético que genere una imagen previamente dada. El objetivo es poder observar la estructura y funcionamiento del algoritmo, puesto que si se desea 'copiar' una imagen existen formas mucho más eficientes.\n",
        "\n"
      ]
    },
    {
      "cell_type": "markdown",
      "metadata": {
        "id": "YrmudWVrT2VB"
      },
      "source": [
        "## Librerías"
      ]
    },
    {
      "cell_type": "code",
      "metadata": {
        "id": "tsdUJqey7cKf"
      },
      "source": [
        "import random\n",
        "import matplotlib.image as img\n",
        "import matplotlib.pyplot as plt\n",
        "import math\n",
        "import numpy as np"
      ],
      "execution_count": null,
      "outputs": []
    },
    {
      "cell_type": "markdown",
      "metadata": {
        "id": "EaRaG4jGU9BM"
      },
      "source": [
        "## Variables Globales y funciones auxiliares"
      ]
    },
    {
      "cell_type": "code",
      "metadata": {
        "id": "vAyNmBIJ7qxy"
      },
      "source": [
        "#Número de individuos en una población \n",
        "POBLACION_TOTAL = 100\n",
        "\n",
        "#Posibles genes de un chromosoma, en este caso,\n",
        "# los valores que puede tener el color de un pixel\n",
        "GENES = [i for i in range(256)]\n",
        "\n",
        "#El objetivo final, en este caso, la imagen que se desea generar\n",
        "# Para simplificar las operaciones en un futuro, se transforma la imagen\n",
        "# en una lista de píxeles:\n",
        "# type: numpy.ndarray -> python list\n",
        "# shape: (32, 32, 3) -> (1024, 3)\n",
        "IMG_OBJETIVO = img.imread(\"target.jpg\").tolist()\n",
        "OBJETIVO = []\n",
        "for a in IMG_OBJETIVO:\n",
        "  OBJETIVO += a"
      ],
      "execution_count": null,
      "outputs": []
    },
    {
      "cell_type": "code",
      "metadata": {
        "id": "NL9RjonD_VaJ"
      },
      "source": [
        "def ver_img(long_line, descripcion):\n",
        "        ''' \n",
        "        Función en la que dada la lista de pixeles de una imagen,\n",
        "        la transforma en una matriz, y después a un numpy array para poder\n",
        "        así visualizar la imagen.\n",
        "        '''\n",
        "        global OBJETIVO\n",
        "        genoma_len = len(OBJETIVO)\n",
        "        img_len = int(math.sqrt(genoma_len))\n",
        "        individuo = []\n",
        "        for i in range(img_len):\n",
        "            loc_0 = i*img_len\n",
        "            loc_1 = loc_0 + img_len\n",
        "            individuo.append(long_line[loc_0:loc_1])\n",
        "        plt.title(descripcion)\n",
        "        plt.axis('off')\n",
        "        plt.imshow(np.array(individuo))\n",
        "        plt.show()"
      ],
      "execution_count": null,
      "outputs": []
    },
    {
      "cell_type": "markdown",
      "metadata": {
        "id": "2tp6pZ53VBSi"
      },
      "source": [
        "## Clase Individuo"
      ]
    },
    {
      "cell_type": "code",
      "metadata": {
        "id": "sRVnGUAxCPeg"
      },
      "source": [
        "class Individuo(object):\n",
        "    '''\n",
        "    Clase para describir a cada individuo de la población.\n",
        "    '''\n",
        "    def __init__(self, cromosoma):\n",
        "        self.cromosoma = cromosoma \n",
        "        self.aptitud = self.medir_aptitud()\n",
        "  \n",
        "    @classmethod\n",
        "    def gen_mutado(self):\n",
        "        '''\n",
        "        Genera genes aleatorios para la mutación, en nuestro caso,\n",
        "        genera un color de forma aleatoria.\n",
        "        '''\n",
        "        global GENES\n",
        "        gen = random.choice(GENES)\n",
        "        return [gen, gen, gen]\n",
        "  \n",
        "    @classmethod\n",
        "    def crear_genoma(self):\n",
        "        '''\n",
        "        Crea un genoma o cromosoma, en nuestro caso, la lista de los\n",
        "        distintos píxeles, es decir, el conjunto de genes.\n",
        "        '''\n",
        "        global OBJETIVO\n",
        "        genoma_len = len(OBJETIVO)\n",
        "        return [self.gen_mutado() for _ in range(genoma_len)]\n",
        "  \n",
        "    def reproducir(self, predecesor2):\n",
        "        '''\n",
        "        Se crea un nuevo cromosoma que surge cómo la combinación de sus \n",
        "        cromosomas predecesores y una parte de mutación.\n",
        "        '''\n",
        "        nuevo_cromosoma = []\n",
        "        for gp1, gp2 in zip(self.cromosoma, predecesor2.cromosoma):    \n",
        "  \n",
        "            # probabilidad aleatoria entre 0 y 1  \n",
        "            prob = random.random()\n",
        "  \n",
        "            # Si la probabilidad es menor que 0.40,\n",
        "            # añadimos un gen del predecesor 1 \n",
        "            if prob < 0.40:\n",
        "                nuevo_cromosoma.append(gp1)\n",
        "  \n",
        "            # Si la probabilidad está entre 0.40 y 0.80,\n",
        "            # añadimos un gen del predecesor 2\n",
        "            elif prob < 0.80:\n",
        "                nuevo_cromosoma.append(gp2)\n",
        "  \n",
        "            # En caso contrario, añadimos un gen mutado \n",
        "            # para mantener la diversidad y el posible cambio\n",
        "            else:\n",
        "                gp3 = self.gen_mutado()\n",
        "                nuevo_cromosoma.append(gp3)\n",
        "        # Creamos ya el nuevo individuo con esa lista de genes:\n",
        "        return Individuo(nuevo_cromosoma)\n",
        "  \n",
        "    def medir_aptitud(self):\n",
        "        '''\n",
        "        Calculamos la aptitud con la imagen objetivo, \n",
        "        para ello calculamos el número de píxeles que difieren.\n",
        "        El individuo óptimo (es decir, idéntico a la imagen)\n",
        "        es aquel que tiene aptitud 0. Por tanto el algoritmo\n",
        "        buscará disminuir la aptitud.\n",
        "        '''\n",
        "        global OBJETIVO\n",
        "        aptitud = 0\n",
        "        for gs, go in zip(self.cromosoma, OBJETIVO):\n",
        "          #aux = pow(go[0] - gs[0], 2) + pow(go[1] - gs[1], 2) + pow(go[2] - gs[2], 2)\n",
        "          #aptitud += math.sqrt(aux)\n",
        "          aptitud += abs(go[0] - gs[0])\n",
        "        return aptitud"
      ],
      "execution_count": null,
      "outputs": []
    },
    {
      "cell_type": "markdown",
      "metadata": {
        "id": "2NhZuZqLVPxv"
      },
      "source": [
        "## Código Principal"
      ]
    },
    {
      "cell_type": "code",
      "metadata": {
        "colab": {
          "base_uri": "https://localhost:8080/",
          "height": 334
        },
        "id": "hbzDhVcwTm6k",
        "outputId": "c13de95f-6094-49d2-a008-2c121c2066ad"
      },
      "source": [
        "# Driver code\n",
        "def main():\n",
        "    global POBLACION_TOTAL\n",
        "    fin = False\n",
        "    #generación de la población actual:\n",
        "    generacion = 1\n",
        "    \n",
        "    # Se crea la población inicial:\n",
        "    poblacion = []\n",
        "    for _ in range(POBLACION_TOTAL):\n",
        "                genoma = Individuo.crear_genoma()\n",
        "                poblacion.append(Individuo(genoma))\n",
        "    ver_img(poblacion[0].cromosoma, generacion)\n",
        "    ver_img(poblacion[1].cromosoma, generacion)\n",
        "    ver_img(poblacion[-2].cromosoma, generacion)\n",
        "    ver_img(poblacion[-1].cromosoma, generacion)\n",
        "    while not fin:\n",
        "        # Ordenamos los individuos de la población de forma creciente\n",
        "        # según su nivel de aptitud\n",
        "        poblacion = sorted(poblacion, key = lambda x:x.aptitud)\n",
        "        if (generacion==10) or (generacion == 100) or (generacion ==1000) or \\\n",
        "           (generacion== 2000) or (generacion == 5000) or \\\n",
        "           (generacion == 10000) or (generacion == 20000) or \\\n",
        "           (generacion == 40000) or (generacion == 50000) or \\\n",
        "           (generacion == 60000) or (generacion == 70000) or \\\n",
        "           (generacion == 80000) or (generacion == 90000) or \\\n",
        "           (generacion == 80000) or (generacion == 90000) or \\\n",
        "           (generacion == 100000) or (generacion == 110000) or \\\n",
        "           (generacion == 120000) or (generacion == 130000) or \\\n",
        "           (generacion == 140000) or (generacion == 150000) or \\\n",
        "           (generacion == 160000) or (generacion == 170000) or \\\n",
        "           (generacion == 200000) or (generacion == 400000) or \\\n",
        "           (generacion == 500000) or (generacion == 600000) or \\\n",
        "           (generacion == 700000) or (generacion == 800000) or \\\n",
        "           (generacion == 900000) or (generacion == 1000000) or \\\n",
        "           (generacion == 1200000):\n",
        "            ver_img(poblacion[0].cromosoma, generacion)\n",
        "            ver_img(poblacion[1].cromosoma, generacion)\n",
        "            ver_img(poblacion[-2].cromosoma, generacion)\n",
        "            ver_img(poblacion[-1].cromosoma, generacion)\n",
        "\n",
        "        # Si la menor aptitud de los individuos es 0, entonces \n",
        "        # el indivudio que la tenga coincide con la imagen objetivo\n",
        "        # y por tanto ya podemos detener el programa.\n",
        "        if poblacion[0].aptitud <= 0:\n",
        "            fin = True\n",
        "            break\n",
        "  \n",
        "        # Si no es así, creamos una generación reproduciendo los\n",
        "        # individuos de la anterior\n",
        "        nueva_generacion = []\n",
        "  \n",
        "        # Mantenemos al mejor 10% de la población\n",
        "        s = int((10*POBLACION_TOTAL)/100)\n",
        "        nueva_generacion.extend(poblacion[:s])\n",
        "  \n",
        "        # El restante 90% de la población serán los descendientes\n",
        "        # de haber reproducido al 50% de la población con mejor aptitud\n",
        "        s = int((90*POBLACION_TOTAL)/100)\n",
        "        for _ in range(s):\n",
        "            predecesor1 = random.choice(poblacion[:50])\n",
        "            predecesor2 = random.choice(poblacion[:50])\n",
        "            descendiente = predecesor1.reproducir(predecesor2)\n",
        "            nueva_generacion.append(descendiente)\n",
        "  \n",
        "        poblacion = nueva_generacion        \n",
        "        generacion += 1\n",
        "\n",
        "    ver_img(poblacion[0].cromosoma, generacion)\n",
        "\n",
        "if __name__ == '__main__':\n",
        "    main()"
      ],
      "execution_count": null,
      "outputs": [
        {
          "output_type": "error",
          "ename": "NameError",
          "evalue": "ignored",
          "traceback": [
            "\u001b[0;31m---------------------------------------------------------------------------\u001b[0m",
            "\u001b[0;31mNameError\u001b[0m                                 Traceback (most recent call last)",
            "\u001b[0;32m<ipython-input-1-5301b73306de>\u001b[0m in \u001b[0;36m<module>\u001b[0;34m()\u001b[0m\n\u001b[1;32m     55\u001b[0m \u001b[0;34m\u001b[0m\u001b[0m\n\u001b[1;32m     56\u001b[0m \u001b[0;32mif\u001b[0m \u001b[0m__name__\u001b[0m \u001b[0;34m==\u001b[0m \u001b[0;34m'__main__'\u001b[0m\u001b[0;34m:\u001b[0m\u001b[0;34m\u001b[0m\u001b[0;34m\u001b[0m\u001b[0m\n\u001b[0;32m---> 57\u001b[0;31m     \u001b[0mmain\u001b[0m\u001b[0;34m(\u001b[0m\u001b[0;34m)\u001b[0m\u001b[0;34m\u001b[0m\u001b[0;34m\u001b[0m\u001b[0m\n\u001b[0m",
            "\u001b[0;32m<ipython-input-1-5301b73306de>\u001b[0m in \u001b[0;36mmain\u001b[0;34m()\u001b[0m\n\u001b[1;32m      8\u001b[0m     \u001b[0;31m# Se crea la población inicial:\u001b[0m\u001b[0;34m\u001b[0m\u001b[0;34m\u001b[0m\u001b[0;34m\u001b[0m\u001b[0m\n\u001b[1;32m      9\u001b[0m     \u001b[0mpoblacion\u001b[0m \u001b[0;34m=\u001b[0m \u001b[0;34m[\u001b[0m\u001b[0;34m]\u001b[0m\u001b[0;34m\u001b[0m\u001b[0;34m\u001b[0m\u001b[0m\n\u001b[0;32m---> 10\u001b[0;31m     \u001b[0;32mfor\u001b[0m \u001b[0m_\u001b[0m \u001b[0;32min\u001b[0m \u001b[0mrange\u001b[0m\u001b[0;34m(\u001b[0m\u001b[0mPOBLACION_TOTAL\u001b[0m\u001b[0;34m)\u001b[0m\u001b[0;34m:\u001b[0m\u001b[0;34m\u001b[0m\u001b[0;34m\u001b[0m\u001b[0m\n\u001b[0m\u001b[1;32m     11\u001b[0m                 \u001b[0mgenoma\u001b[0m \u001b[0;34m=\u001b[0m \u001b[0mIndividuo\u001b[0m\u001b[0;34m.\u001b[0m\u001b[0mcrear_genoma\u001b[0m\u001b[0;34m(\u001b[0m\u001b[0;34m)\u001b[0m\u001b[0;34m\u001b[0m\u001b[0;34m\u001b[0m\u001b[0m\n\u001b[1;32m     12\u001b[0m                 \u001b[0mpoblacion\u001b[0m\u001b[0;34m.\u001b[0m\u001b[0mappend\u001b[0m\u001b[0;34m(\u001b[0m\u001b[0mIndividuo\u001b[0m\u001b[0;34m(\u001b[0m\u001b[0mgenoma\u001b[0m\u001b[0;34m)\u001b[0m\u001b[0;34m)\u001b[0m\u001b[0;34m\u001b[0m\u001b[0;34m\u001b[0m\u001b[0m\n",
            "\u001b[0;31mNameError\u001b[0m: name 'POBLACION_TOTAL' is not defined"
          ]
        }
      ]
    },
    {
      "cell_type": "code",
      "metadata": {
        "id": "bK4kTWLdadRk"
      },
      "source": [
        "gjooiu"
      ],
      "execution_count": null,
      "outputs": []
    },
    {
      "cell_type": "code",
      "metadata": {
        "id": "KMoKOomK90sD"
      },
      "source": [
        ""
      ],
      "execution_count": null,
      "outputs": []
    }
  ]
}