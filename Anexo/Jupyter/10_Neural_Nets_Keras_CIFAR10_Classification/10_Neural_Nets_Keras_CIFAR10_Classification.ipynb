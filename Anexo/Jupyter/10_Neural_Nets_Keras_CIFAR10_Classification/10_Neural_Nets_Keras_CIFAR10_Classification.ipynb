{
 "cells": [
  {
   "cell_type": "markdown",
   "metadata": {},
   "source": [
    "# Imports"
   ]
  },
  {
   "cell_type": "code",
   "execution_count": 2,
   "metadata": {},
   "outputs": [],
   "source": [
    "from numpy.random import seed\n",
    "seed(888)\n",
    "\n",
    "# from tensorflow import set_random_seed\n",
    "# set_random_seed(404)\n",
    "\n",
    "import tensorflow\n",
    "tensorflow.random.set_seed(404)"
   ]
  },
  {
   "cell_type": "code",
   "execution_count": 3,
   "metadata": {},
   "outputs": [],
   "source": [
    "import os\n",
    "import numpy as np\n",
    "import tensorflow as tf\n",
    "import itertools\n",
    "\n",
    "import keras\n",
    "from keras.datasets import cifar10\n",
    "from keras.models import Sequential\n",
    "from keras.layers import Dense, Activation, Dropout\n",
    "\n",
    "from IPython.display import display\n",
    "from keras.preprocessing.image import array_to_img\n",
    "from keras.callbacks import TensorBoard\n",
    "\n",
    "from time import strftime\n",
    "\n",
    "from sklearn.metrics import confusion_matrix\n",
    "\n",
    "\n",
    "import matplotlib.pyplot as plt\n",
    "\n",
    "%matplotlib inline"
   ]
  },
  {
   "cell_type": "markdown",
   "metadata": {},
   "source": [
    "# Constants"
   ]
  },
  {
   "cell_type": "code",
   "execution_count": 4,
   "metadata": {},
   "outputs": [],
   "source": [
    "LOG_DIR = 'tensorboard_cifar_logs/'\n",
    "\n",
    "LABEL_NAMES = ['Plane', 'Car', 'Bird', 'Cat', 'Deer', 'Dog', 'Frog', 'Horse', 'Ship', 'Truck']\n",
    "IMAGE_WIDTH = 32\n",
    "IMAGE_HEIGHT = 32\n",
    "IMAGE_PIXELS = IMAGE_WIDTH * IMAGE_HEIGHT\n",
    "COLOR_CHANNELS = 3\n",
    "TOTAL_INPUTS = IMAGE_PIXELS * COLOR_CHANNELS\n",
    "NR_CLASSES = 10\n",
    "\n",
    "VALIDATION_SIZE = 10000\n",
    "SMALL_TRAIN_SIZE = 1000"
   ]
  },
  {
   "cell_type": "markdown",
   "metadata": {},
   "source": [
    "# Get the Data"
   ]
  },
  {
   "cell_type": "code",
   "execution_count": 5,
   "metadata": {},
   "outputs": [],
   "source": [
    "# First, we download the data:\n",
    "\n",
    "(x_train_all, y_train_all), (x_test, y_test) = cifar10.load_data()"
   ]
  },
  {
   "cell_type": "code",
   "execution_count": 6,
   "metadata": {},
   "outputs": [
    {
     "data": {
      "text/plain": [
       "numpy.ndarray"
      ]
     },
     "execution_count": 6,
     "metadata": {},
     "output_type": "execute_result"
    }
   ],
   "source": [
    "type(cifar10) # -> module\n",
    "type(x_train_all)"
   ]
  },
  {
   "cell_type": "markdown",
   "metadata": {},
   "source": [
    "# Explore the Data"
   ]
  },
  {
   "cell_type": "code",
   "execution_count": 7,
   "metadata": {},
   "outputs": [],
   "source": [
    "# First way to display an image in Jupyter notebook: \n",
    "# python display"
   ]
  },
  {
   "cell_type": "code",
   "execution_count": 8,
   "metadata": {},
   "outputs": [
    {
     "data": {
      "text/plain": [
       "array([[[ 59,  62,  63],\n",
       "        [ 43,  46,  45],\n",
       "        [ 50,  48,  43],\n",
       "        ...,\n",
       "        [158, 132, 108],\n",
       "        [152, 125, 102],\n",
       "        [148, 124, 103]],\n",
       "\n",
       "       [[ 16,  20,  20],\n",
       "        [  0,   0,   0],\n",
       "        [ 18,   8,   0],\n",
       "        ...,\n",
       "        [123,  88,  55],\n",
       "        [119,  83,  50],\n",
       "        [122,  87,  57]],\n",
       "\n",
       "       [[ 25,  24,  21],\n",
       "        [ 16,   7,   0],\n",
       "        [ 49,  27,   8],\n",
       "        ...,\n",
       "        [118,  84,  50],\n",
       "        [120,  84,  50],\n",
       "        [109,  73,  42]],\n",
       "\n",
       "       ...,\n",
       "\n",
       "       [[208, 170,  96],\n",
       "        [201, 153,  34],\n",
       "        [198, 161,  26],\n",
       "        ...,\n",
       "        [160, 133,  70],\n",
       "        [ 56,  31,   7],\n",
       "        [ 53,  34,  20]],\n",
       "\n",
       "       [[180, 139,  96],\n",
       "        [173, 123,  42],\n",
       "        [186, 144,  30],\n",
       "        ...,\n",
       "        [184, 148,  94],\n",
       "        [ 97,  62,  34],\n",
       "        [ 83,  53,  34]],\n",
       "\n",
       "       [[177, 144, 116],\n",
       "        [168, 129,  94],\n",
       "        [179, 142,  87],\n",
       "        ...,\n",
       "        [216, 184, 140],\n",
       "        [151, 118,  84],\n",
       "        [123,  92,  72]]], dtype=uint8)"
      ]
     },
     "execution_count": 8,
     "metadata": {},
     "output_type": "execute_result"
    }
   ],
   "source": [
    "x_train_all[0]"
   ]
  },
  {
   "cell_type": "code",
   "execution_count": 9,
   "metadata": {},
   "outputs": [
    {
     "data": {
      "image/png": "[encoded data removed]",
      "text/plain": [
       "<PIL.Image.Image image mode=RGB size=32x32 at 0x233BA964640>"
      ]
     },
     "metadata": {},
     "output_type": "display_data"
    }
   ],
   "source": [
    "pic = array_to_img(x_train_all[7])\n",
    "display(pic)"
   ]
  },
  {
   "cell_type": "code",
   "execution_count": 10,
   "metadata": {},
   "outputs": [
    {
     "data": {
      "text/plain": [
       "7"
      ]
     },
     "execution_count": 10,
     "metadata": {},
     "output_type": "execute_result"
    }
   ],
   "source": [
    "# We can verify that the image above is above by looking at the image labels which we found in the y labels: \n",
    "\n",
    "y_train_all.shape # -> (50000, 1)\n",
    "# so the y value at index 7 is: \n",
    "\n",
    "y_train_all[7][0]\n",
    "# This is the index of the word, we can see in the cell below"
   ]
  },
  {
   "cell_type": "code",
   "execution_count": 11,
   "metadata": {},
   "outputs": [
    {
     "data": {
      "text/plain": [
       "'Horse'"
      ]
     },
     "execution_count": 11,
     "metadata": {},
     "output_type": "execute_result"
    }
   ],
   "source": [
    "LABEL_NAMES[y_train_all[7][0]]"
   ]
  },
  {
   "cell_type": "code",
   "execution_count": 12,
   "metadata": {},
   "outputs": [
    {
     "data": {
      "image/png": "[encoded data removed]",
      "text/plain": [
       "<Figure size 432x288 with 1 Axes>"
      ]
     },
     "metadata": {
      "needs_background": "light"
     },
     "output_type": "display_data"
    }
   ],
   "source": [
    "# Second way to display an image in Jupyter notebook: \n",
    "# matplotlib\n",
    "\n",
    "plt.imshow(x_train_all[4])\n",
    "plt.xlabel(LABEL_NAMES[y_train_all[4][0]], fontsize=15)\n",
    "plt.show()"
   ]
  },
  {
   "cell_type": "code",
   "execution_count": 13,
   "metadata": {},
   "outputs": [
    {
     "data": {
      "image/png": "[encoded data removed]",
      "text/plain": [
       "<Figure size 1080x360 with 10 Axes>"
      ]
     },
     "metadata": {},
     "output_type": "display_data"
    }
   ],
   "source": [
    "# Challenge:\n",
    "# Write a for loop to display the first 10 images from the ```x_train_all``` array in a row. \n",
    "# Show the name of the label below the picture. Remove the ugly tick marks.\n",
    "# *Hint* use matplotlib. \n",
    "\n",
    "plt.figure(figsize=[15, 5])\n",
    "\n",
    "for i in range(10):\n",
    "    plt.subplot(1,10,i+1) \n",
    "    plt.yticks([])\n",
    "    plt.xticks([])\n",
    "    plt.xlabel(LABEL_NAMES[y_train_all[i][0]], fontsize=15)\n",
    "    # plt.show() -> si pones esto te imprimirá cada foto en una fila distinta\n",
    "    plt.imshow(x_train_all[i])\n"
   ]
  },
  {
   "cell_type": "code",
   "execution_count": 14,
   "metadata": {},
   "outputs": [
    {
     "data": {
      "text/plain": [
       "(32, 32, 3)"
      ]
     },
     "execution_count": 14,
     "metadata": {},
     "output_type": "execute_result"
    }
   ],
   "source": [
    "#Format of the image: RGB\n",
    "x_train_all[0].shape"
   ]
  },
  {
   "cell_type": "code",
   "execution_count": 15,
   "metadata": {},
   "outputs": [
    {
     "name": "stdout",
     "output_type": "stream",
     "text": [
      "nr_images = 50000 \t| width = 32 \t| height = 32 \t| channels = 3\n"
     ]
    }
   ],
   "source": [
    "nr_images, x, y, c = x_train_all.shape\n",
    "print(f'nr_images = {nr_images} \\t| width = {x} \\t| height = {y} \\t| channels = {c}')"
   ]
  },
  {
   "cell_type": "code",
   "execution_count": 16,
   "metadata": {},
   "outputs": [
    {
     "data": {
      "text/plain": [
       "(10000, 32, 32, 3)"
      ]
     },
     "execution_count": 16,
     "metadata": {},
     "output_type": "execute_result"
    }
   ],
   "source": [
    "x_test.shape"
   ]
  },
  {
   "cell_type": "markdown",
   "metadata": {},
   "source": [
    "# Preprocess Data"
   ]
  },
  {
   "cell_type": "code",
   "execution_count": 17,
   "metadata": {},
   "outputs": [
    {
     "data": {
      "text/plain": [
       "numpy.uint8"
      ]
     },
     "execution_count": 17,
     "metadata": {},
     "output_type": "execute_result"
    }
   ],
   "source": [
    "type(x_train_all[0][0][0][0])\n",
    "# uint8 -> 8 bit unsigned(like valor absoluto) integer"
   ]
  },
  {
   "cell_type": "code",
   "execution_count": 18,
   "metadata": {},
   "outputs": [],
   "source": [
    "# We transform the range from 0-255 (int) to 0-1 (float)\n",
    "# this will help us when we need to calculate the loss, adjusting weights ...\n",
    "\n",
    "x_train_all, x_test = x_train_all / 255.0, x_test / 255.0"
   ]
  },
  {
   "cell_type": "code",
   "execution_count": 19,
   "metadata": {},
   "outputs": [
    {
     "data": {
      "text/plain": [
       "numpy.float64"
      ]
     },
     "execution_count": 19,
     "metadata": {},
     "output_type": "execute_result"
    }
   ],
   "source": [
    "type(x_train_all[0][0][0][0])"
   ]
  },
  {
   "cell_type": "code",
   "execution_count": 20,
   "metadata": {},
   "outputs": [],
   "source": [
    "# Now we are gonna flatten our data, that is,\n",
    "# we are going to put the values in a single row,\n",
    "# so we have a single row of numbers to represent one image:\n",
    "\n",
    "x_train_all = x_train_all.reshape(x_train_all.shape[0], TOTAL_INPUTS)\n",
    "# In X[0] we have all the first image pixels rgb"
   ]
  },
  {
   "cell_type": "code",
   "execution_count": 21,
   "metadata": {},
   "outputs": [
    {
     "data": {
      "text/plain": [
       "(50000, 3072)"
      ]
     },
     "execution_count": 21,
     "metadata": {},
     "output_type": "execute_result"
    }
   ],
   "source": [
    "x_train_all.shape"
   ]
  },
  {
   "cell_type": "code",
   "execution_count": 22,
   "metadata": {},
   "outputs": [
    {
     "name": "stdout",
     "output_type": "stream",
     "text": [
      "Shape of x_test is (10000, 3072)\n"
     ]
    }
   ],
   "source": [
    "x_test = x_test.reshape(len(x_test), TOTAL_INPUTS)\n",
    "print(f'Shape of x_test is {x_test.shape}')"
   ]
  },
  {
   "cell_type": "markdown",
   "metadata": {},
   "source": [
    "### Create Validation Dataset\n",
    "\n",
    "> We have:  \n",
    ">> data = training_data + test_data  \n",
    ">\n",
    "> Now we are going to plit the training_data into two:  \n",
    ">> training_data = training_data + **validation_data**  \n",
    ">\n",
    "> We do this as with the workflow we will make little changes in the model,  \n",
    "> and the validation dataset will allow us to then select our best model,  \n",
    "> as the valuation dataset is to evaluate the little tweaks/changes\n",
    ">\n",
    "> When we work with small data sets we usually use:  \n",
    ">> 60% training dat, 20% validation_data, 20% test_data  \n",
    ">\n",
    "> If we have absolutely enormous amount of data then:  \n",
    ">> 1% validation_data and 1% test_data"
   ]
  },
  {
   "cell_type": "code",
   "execution_count": 23,
   "metadata": {},
   "outputs": [
    {
     "data": {
      "text/plain": [
       "(10000, 3072)"
      ]
     },
     "execution_count": 23,
     "metadata": {},
     "output_type": "execute_result"
    }
   ],
   "source": [
    "x_val = x_train_all[:VALIDATION_SIZE]\n",
    "y_val = y_train_all[:VALIDATION_SIZE]\n",
    "x_val.shape"
   ]
  },
  {
   "cell_type": "code",
   "execution_count": 24,
   "metadata": {},
   "outputs": [
    {
     "name": "stdout",
     "output_type": "stream",
     "text": [
      "(40000, 3072)\n",
      "(40000, 1)\n"
     ]
    }
   ],
   "source": [
    "# Challenge:\n",
    "# Create two numpy arrays ```x_train``` and ```y_train``` \n",
    "# that have the shape (40000, 3072) and (40000, 1) respectively.\n",
    "# They need to contain the last 40000 values from ```x_train_all``` and ```y_train_all``` respectively. \n",
    "\n",
    "\n",
    "x_train = x_train_all[VALIDATION_SIZE:]\n",
    "y_train = y_train_all[VALIDATION_SIZE:]\n",
    "print(x_train.shape)\n",
    "print(y_train.shape)\n"
   ]
  },
  {
   "cell_type": "markdown",
   "metadata": {},
   "source": [
    "### Create a small dataset (for illustration)\n",
    "\n",
    "> As we don't want to put to much work our computer, we will first train with a small dataset.  \n",
    "> After we are happy, we eill continue training but with the bigger dataset."
   ]
  },
  {
   "cell_type": "code",
   "execution_count": 25,
   "metadata": {},
   "outputs": [],
   "source": [
    "x_train_xs = x_train[:SMALL_TRAIN_SIZE]\n",
    "y_train_xs = y_train[:SMALL_TRAIN_SIZE]"
   ]
  },
  {
   "cell_type": "markdown",
   "metadata": {
    "collapsed": true
   },
   "source": [
    "# Define the Neural Network using Keras  \n",
    "\n",
    "When we work with Tensorflow (that is the backend for Keras), we will have 3 steps to build our model:  \n",
    ">\n",
    "> ***1. Define the model:*** Set out the structure of the model  \n",
    ">\n",
    "> ***2. Compiling the model:*** Tell Tensorflow in advance how do we want to measure the loss, the calculations we want for the weight ...  \n",
    ">\n",
    "> ***3. Fit:*** Training the model\n",
    "  \n",
    "We will work with the ***MULTILAYER PERCEPTRON***, a simple neural network.  "
   ]
  },
  {
   "cell_type": "markdown",
   "metadata": {},
   "source": [
    "***STEP 1: DEFINE***  \n",
    "  \n",
    "> Then, for step 1, defining our model, we will set up the architecture for this perceptron.  \n",
    "This mean creating the layers.  \n",
    "\n",
    "> The ***first layer*** we create is not the imput layer but the first hidden layer.  \n",
    "We need to tell Keras how many imputs does this layer have.  \n",
    "As we are working with images, this number is determined by the resolution and the color space of the image.  \n",
    "(width * length * color -> $32*32*3$ in our case)  \n",
    "To create this layer we need the function:  \n",
    ">> **Dense(nr_neurons, nr_imputs, activation_function, layer_name(optional))**  \n",
    ">>  \n",
    "We have to specify nr_imputs = $32*32*3$ as it is the first layer  \n",
    "The activation function is how the neurons are going to behave  \n",
    "\n",
    ">For the ***second layer*** we use the same function but without nr_imputs, and its nr_neurons (activation function remains the same).  \n",
    "\n",
    ">When we reach the ***output layer*** we will use nr_imputs and a different activation_function: softmax  \n",
    "This activation function will transform our outputs into a probability (so we can interpret them).  \n",
    "It will give us a distribution for all the output numbers: they are all between 0 and 1, and they sum 1.\n",
    "\n",
    "> So to create our model we use:  \n",
    ">> **model_name = Sequential([ Dense_first_layer, Dense_second_layer, ... Dense_output_layer])**  \n",
    ">>(Look at model_1)\n",
    ">\n",
    "> or:  \n",
    ">> **model_2 = Sequential()  \n",
    "model_2.add(Dense_first_layer)  \n",
    "model_2.add(Dense_second_layer)  \n",
    "...  \n",
    "model_2.add(Dense(10_output_layer)***  \n",
    ">> (Look at model_2)"
   ]
  },
  {
   "cell_type": "markdown",
   "metadata": {},
   "source": [
    "***STEP 2: COMPILE***  \n",
    "  \n",
    "> Now we have to compile our model, that is, telling  Tensorflow about the kind of calculations we will have to do down the line, so tensorflow can create its graph behind the scenes.  \n",
    "  \n",
    "> In this calculations we can find the loss (with the loss/cost function), so we can calculate how fas is our model from the true value.  \n",
    "And the model will have to update the weights as it is being train, or calculate the accuracy so we can see how it improves over time.  \n",
    "\n",
    "> In Regression models we saw the MSE (Mean Square Error), but we have many more.  \n",
    "As we are not doing a regression but a classification with multiple classes, with a probability associated to each class,  \n",
    "we will use the ***CATEGORICAL CROSS ENTROPY***, that provides a probability between 0 and 1 as an output.\n",
    ">\n",
    ">> $$ CE = - \\sum_{i} \\big( y_i log( \\hat{y_i}) \\big)$$ \n",
    ">> where:\n",
    ">> - $y_i$ is the actual value of the label (0 or 1)\n",
    ">> - $\\hat{y_i}$ is the predicted probability\n",
    ">> - i is one of the categories, so we sum all the categories\n",
    ">  \n",
    "> Example:   \n",
    ">>Imagine we have a model that tell us if a picture has a cat or not.  \n",
    "We have 2 categories   \n",
    "We provide a photo with a cat($ y_1 = 1$ , $y_0 = 0$), and it tells us that it has a cat ($\\hat{y_1} = 1$), then the CE would be:  \n",
    ">>  \n",
    ">> $ CE = - (y_0 log( \\hat{y_0} + y_1 log( \\hat{y_1}) = - (0 * log(0)+ 1 * log(1)) = - (0*1 + 1*0) = 0$\n",
    "\n",
    "> Now, to compile in jupyter using Keras we need the function:  \n",
    ">> **our_model_name.compile( optimizer, loss_function, metric)**"
   ]
  },
  {
   "cell_type": "markdown",
   "metadata": {},
   "source": [
    "***OPTIMIZER***\n",
    "> An algorithm that calculates the loss and adjusts the weights.  \n",
    "  \n",
    "> As researchers were looking to come up with a better solution than the Gradient Descent, or how could it be improved, they were looking essentially a better way to optimize the cost. As a result, we have now a variety of optimizer to choose from.   \n",
    "> Look at the Keras documentation to look at what we have got available to us.\n",
    "\n",
    "> A really popular optimizer is: **Adam**  \n",
    "> It is very computationally efficient, it has very low memory requirements and it requires very little configuration."
   ]
  },
  {
   "cell_type": "markdown",
   "metadata": {},
   "source": [
    "***BIAS***\n",
    "> The **ACTIVATION FUNCTION** determines how strong our neuron will fire.   \n",
    "> We had different types of activation functions, like the sigmoid.  \n",
    "> (Yo) Imagine this is: f  \n",
    "\n",
    "> Now, when we change the connection **WEIGHTS**, we are changing the activation function, making it steeper or flatter (for ex)  \n",
    "> (Yo) if the weight = a, this would be like: a*f\n",
    "\n",
    "> Finally, if we want to move the activation function we use the **BIAS**.  \n",
    "> (Yo) bias = b, then: a*f + b\n",
    "\n",
    "Now, all of these are **parameters** that the neural network can update"
   ]
  },
  {
   "cell_type": "code",
   "execution_count": 26,
   "metadata": {},
   "outputs": [
    {
     "data": {
      "image/png": "[encoded data removed]",
      "text/plain": [
       "<Figure size 432x288 with 1 Axes>"
      ]
     },
     "metadata": {
      "needs_background": "light"
     },
     "output_type": "display_data"
    }
   ],
   "source": [
    "#YO!!!\n",
    "# CATEGORICAL CROSS ENTROPY graph:\n",
    "\n",
    "# This is not the actual function, but one I found with a similar graph to show the example\n",
    "def f(x):\n",
    "    return 1/(x**0.5)\n",
    "\n",
    "x = np.linspace(start= 0.02, stop = 1, num = 500)\n",
    "plt.yticks([])\n",
    "plt.xticks([0,1])\n",
    "plt.title('CATEGORICAL CROSS ENTROPY', fontsize = 17)\n",
    "plt.xlabel('predicted probability', fontsize = 16)\n",
    "plt.ylabel('cost', fontsize = 16)\n",
    "plt.plot(x, f(x))\n",
    "plt.show()\n",
    "\n",
    "# If the probability is near 0, we see that the cost/loss funtion really penalizes the predictions\n",
    "# Instead, as the probability is near 1, the cost/loss function decreases to 0\n",
    "# So this cost function really penalizes the predictions that are both, confident and wrong"
   ]
  },
  {
   "cell_type": "code",
   "execution_count": 27,
   "metadata": {},
   "outputs": [],
   "source": [
    "model_1 = Sequential([\n",
    "    Dense(units=128, input_dim=TOTAL_INPUTS, activation='relu', name='m1_hidden1'),\n",
    "    Dense(units=64, activation='relu', name='m1_hidden2'),\n",
    "    Dense(16, activation='relu', name='m1_hidden3'),\n",
    "    Dense(10, activation='softmax', name='m1_output')\n",
    "])\n",
    "\n",
    "model_1.compile(optimizer='adam', \n",
    "                loss='sparse_categorical_crossentropy', \n",
    "                metrics=['accuracy'])\n",
    "# sparse_categorical_crossentropy is a slightly more computationally efficient variation\n",
    "# of the Categorical Cross Entropy that Keras gives us.\n",
    "\n",
    "#type(model_1) -> keras.engine.sequential.Sequential"
   ]
  },
  {
   "cell_type": "code",
   "execution_count": 28,
   "metadata": {},
   "outputs": [
    {
     "name": "stdout",
     "output_type": "stream",
     "text": [
      "Model: \"sequential\"\n",
      "_________________________________________________________________\n",
      "Layer (type)                 Output Shape              Param #   \n",
      "=================================================================\n",
      "m1_hidden1 (Dense)           (None, 128)               393344    \n",
      "_________________________________________________________________\n",
      "m1_hidden2 (Dense)           (None, 64)                8256      \n",
      "_________________________________________________________________\n",
      "m1_hidden3 (Dense)           (None, 16)                1040      \n",
      "_________________________________________________________________\n",
      "m1_output (Dense)            (None, 10)                170       \n",
      "=================================================================\n",
      "Total params: 402,810\n",
      "Trainable params: 402,810\n",
      "Non-trainable params: 0\n",
      "_________________________________________________________________\n"
     ]
    }
   ],
   "source": [
    "model_1.summary()"
   ]
  },
  {
   "cell_type": "code",
   "execution_count": 29,
   "metadata": {},
   "outputs": [
    {
     "data": {
      "text/plain": [
       "402810"
      ]
     },
     "execution_count": 29,
     "metadata": {},
     "output_type": "execute_result"
    }
   ],
   "source": [
    "# Let's analize the total number of parameters in our model:\n",
    "\n",
    "# FIRST LAYER:\n",
    "#  Inputs = 32 *32 *3\n",
    "#  neurons = 128\n",
    "#   nr_connection_weights = 32*32*3*128 = 393216 < 393344\n",
    "#  bias = 128 \n",
    "#   nr_connection_weights = 3393216 + 128 = 393344\n",
    "\n",
    "# SECOND LAYER: analogous ...\n",
    "\n",
    "(32*32*3*128 + 128) + (128*64 + 64) + (64*16 + 16) + (16*10 + 10)"
   ]
  },
  {
   "cell_type": "code",
   "execution_count": 30,
   "metadata": {},
   "outputs": [],
   "source": [
    "model_2 = Sequential()\n",
    "model_2.add(Dropout(0.2, seed=42, input_shape=(TOTAL_INPUTS,)))\n",
    "# we used the regularisation Dropout(see below) to prevent over fitting\n",
    "# 0.2, probability of dropout a neuron of the first layer (as it is before)\n",
    "model_2.add(Dense(128, activation='relu', name='m2_hidden1'))\n",
    "model_2.add(Dense(64, activation='relu', name='m2_hidden2'))\n",
    "model_2.add(Dense(15, activation='relu', name='m2_hidden3'))\n",
    "model_2.add(Dense(10, activation='softmax', name='m2_output'))\n",
    "\n",
    "model_2.compile(optimizer='adam', \n",
    "                loss='sparse_categorical_crossentropy', \n",
    "                metrics=['accuracy'])"
   ]
  },
  {
   "cell_type": "code",
   "execution_count": 31,
   "metadata": {},
   "outputs": [],
   "source": [
    "# Challenge:\n",
    "# Create a third model, ```model_3``` that has two dropout layers.\n",
    "# The second dropout layer should be added after the first hidden layer and have a dropout rate of 25%. \n",
    "\n",
    "model_3 = Sequential()\n",
    "model_3.add(Dropout(0.2, seed=42, input_shape=(TOTAL_INPUTS,)))\n",
    "model_3.add(Dense(128, activation='relu', name='m3_hidden1'))\n",
    "model_3.add(Dropout(0.25, seed=42))\n",
    "model_3.add(Dense(64, activation='relu', name='m3_hidden2'))\n",
    "model_3.add(Dense(15, activation='relu', name='m3_hidden3'))\n",
    "model_3.add(Dense(10, activation='softmax', name='m3_output'))\n",
    "\n",
    "model_3.compile(optimizer='adam', \n",
    "                loss='sparse_categorical_crossentropy', \n",
    "                metrics=['accuracy'])"
   ]
  },
  {
   "cell_type": "markdown",
   "metadata": {
    "collapsed": true
   },
   "source": [
    "# Tensorboard (visualising learning)\n",
    " > To visualice it we put on the terminal:  \n",
    " >> tensorboard --logdir= (directory of the folder  tensorboar_cifar_logs, where we have the different models)  \n",
    " >>  \n",
    " >> tensorboard --logdir=C:\\Users\\evama\\Documents\\AI\\Udemy_ML_and_data_science\\Udemy_Notes_ML\\10_Neural_Nets_Keras_CIFAR10_Classification\\tensorboard_cifar_logs  \n",
    " \n",
    " > Then, it will return a web like: http://localhost:6006/  \n",
    " >> Copy it (ctrl+shift+C) and paste it in the navigator"
   ]
  },
  {
   "cell_type": "code",
   "execution_count": 32,
   "metadata": {},
   "outputs": [],
   "source": [
    "def get_tensorboard(model_name):\n",
    "\n",
    "    folder_name = f'{model_name} at {strftime(\"%H %M\")}' #To print the hour\n",
    "    dir_paths = os.path.join(LOG_DIR, folder_name) #Create the path #os module: operating system\n",
    "\n",
    "    #Now we are going to create a directory including a subdirectory, that is, 2 folders.\n",
    "    try:\n",
    "        os.makedirs(dir_paths) #this create the directory, with the subdirectory\n",
    "                               #but if you created it before, it may get an error, that is why we use try. \n",
    "    except OSError as err:     #If it has this error, we convert it into string and print it\n",
    "        print(err.strerror)\n",
    "    else:\n",
    "        print('Successfully created directory')\n",
    "    return TensorBoard(log_dir=dir_paths)"
   ]
  },
  {
   "cell_type": "markdown",
   "metadata": {},
   "source": [
    "# Fit the Model"
   ]
  },
  {
   "cell_type": "markdown",
   "metadata": {},
   "source": [
    "***EPOCHS***  \n",
    ">An ***epoch*** is when the entire dataset has been passed through the neural network a single time.  \n",
    "But as these methods work, we need to pass the dataset many times.  \n",
    "\n",
    ">But, what if we have a huge dataset?  \n",
    ">> If the computer is powerful enough or the dataset small enough for your computer, you can process all the data at once.  \n",
    ">>Otherwise, we need to split our training data and process one piece of it at a time.\n",
    "\n",
    "A single piece of the dataset is called a ***BATCH***.\n",
    ">So if you split your dataset, then you will train your model on 1 batch at a time, meaning that it will take multiple iterations to go through the entire dataset.  \n",
    "The formula for the umber of iterations that it takes to chew through the entire dataset is:  \n",
    "\n",
    "$$Iterations = \\frac{Nr \\: of \\: Training \\: Samples}{Batch \\: Size}$$"
   ]
  },
  {
   "cell_type": "markdown",
   "metadata": {},
   "source": [
    "***OVERFITTING***\n",
    "\n",
    ">You can detect it when:\n",
    ">> - the loss/cost on the **validation dataset** stops drecresing or starts to increase\n",
    ">> - the accuracy of the validation dataset differs from the training dataset one\n",
    "\n",
    "> How can we fix it?  \n",
    "> The techniques for preventing overfitting are called ***REGULARISATION***.\n",
    ">(you can look at them: https://keras.io/callbacks/)  \n",
    ">Some examples are:\n",
    ">> - ***EarlyStopping***: The model stops training when some quantity (ex: validation loss) stops improving   \n",
    ">> - ***Dropout***: You can ignore some neurons during the training. During the next training step, a different neuron might drop out and so on."
   ]
  },
  {
   "cell_type": "code",
   "execution_count": 33,
   "metadata": {},
   "outputs": [],
   "source": [
    "samples_per_batch = 1000"
   ]
  },
  {
   "cell_type": "code",
   "execution_count": 34,
   "metadata": {
    "scrolled": true
   },
   "outputs": [],
   "source": [
    "# %%time\n",
    "\n",
    "#See lecture  166 to see how do we use Tendorboard\n",
    "\n",
    "# nr_epochs = 150\n",
    "# model_1.fit(x_train_xs, y_train_xs, batch_size=samples_per_batch, epochs=nr_epochs,\n",
    "#             callbacks=[get_tensorboard('Model 1')], verbose=0, validation_data=(x_val, y_val))"
   ]
  },
  {
   "cell_type": "code",
   "execution_count": 35,
   "metadata": {
    "scrolled": true
   },
   "outputs": [],
   "source": [
    "# %%time\n",
    "# nr_epochs = 150\n",
    "# model_2.fit(x_train_xs, y_train_xs, batch_size=samples_per_batch, epochs=nr_epochs,\n",
    "#             callbacks=[get_tensorboard('Model 2')], verbose=0, validation_data=(x_val, y_val))"
   ]
  },
  {
   "cell_type": "code",
   "execution_count": 36,
   "metadata": {
    "scrolled": true
   },
   "outputs": [
    {
     "name": "stdout",
     "output_type": "stream",
     "text": [
      "Successfully created directory\n",
      "WARNING:tensorflow:From C:\\Users\\evama\\anaconda3\\lib\\site-packages\\tensorflow\\python\\ops\\summary_ops_v2.py:1277: stop (from tensorflow.python.eager.profiler) is deprecated and will be removed after 2020-07-01.\n",
      "Instructions for updating:\n",
      "use `tf.profiler.experimental.stop` instead.\n",
      "WARNING:tensorflow:Callbacks method `on_train_batch_end` is slow compared to the batch time (batch time: 0.0117s vs `on_train_batch_end` time: 0.0402s). Check your callbacks.\n",
      "Wall time: 51.6 s\n"
     ]
    },
    {
     "data": {
      "text/plain": [
       "<tensorflow.python.keras.callbacks.History at 0x233c5b02eb0>"
      ]
     },
     "execution_count": 36,
     "metadata": {},
     "output_type": "execute_result"
    }
   ],
   "source": [
    "%%time\n",
    "nr_epochs = 100\n",
    "model_1.fit(x_train, y_train, batch_size=samples_per_batch, epochs=nr_epochs,\n",
    "            callbacks=[get_tensorboard('Model 1 XL')], verbose=0, validation_data=(x_val, y_val))"
   ]
  },
  {
   "cell_type": "code",
   "execution_count": 37,
   "metadata": {
    "scrolled": true
   },
   "outputs": [
    {
     "name": "stdout",
     "output_type": "stream",
     "text": [
      "Successfully created directory\n",
      "WARNING:tensorflow:Callbacks method `on_train_batch_end` is slow compared to the batch time (batch time: 0.0249s vs `on_train_batch_end` time: 0.2984s). Check your callbacks.\n",
      "Wall time: 1min 52s\n"
     ]
    },
    {
     "data": {
      "text/plain": [
       "<tensorflow.python.keras.callbacks.History at 0x233fa0fb9a0>"
      ]
     },
     "execution_count": 37,
     "metadata": {},
     "output_type": "execute_result"
    }
   ],
   "source": [
    "%%time\n",
    "nr_epochs = 100\n",
    "model_2.fit(x_train, y_train, batch_size=samples_per_batch, epochs=nr_epochs,\n",
    "            callbacks=[get_tensorboard('Model 2 XL')], verbose=0, validation_data=(x_val, y_val))"
   ]
  },
  {
   "cell_type": "code",
   "execution_count": 38,
   "metadata": {
    "scrolled": true
   },
   "outputs": [
    {
     "name": "stdout",
     "output_type": "stream",
     "text": [
      "Successfully created directory\n",
      "WARNING:tensorflow:Callbacks method `on_train_batch_end` is slow compared to the batch time (batch time: 0.0287s vs `on_train_batch_end` time: 0.2946s). Check your callbacks.\n",
      "Wall time: 1min 56s\n"
     ]
    },
    {
     "data": {
      "text/plain": [
       "<tensorflow.python.keras.callbacks.History at 0x233fa1b8e50>"
      ]
     },
     "execution_count": 38,
     "metadata": {},
     "output_type": "execute_result"
    }
   ],
   "source": [
    "%%time\n",
    "nr_epochs = 100\n",
    "model_3.fit(x_train, y_train, batch_size=samples_per_batch, epochs=nr_epochs,\n",
    "            callbacks=[get_tensorboard('Model 3 XL')], verbose=0, validation_data=(x_val, y_val))"
   ]
  },
  {
   "cell_type": "markdown",
   "metadata": {},
   "source": [
    "# Predictions on Individual Images"
   ]
  },
  {
   "cell_type": "code",
   "execution_count": 39,
   "metadata": {},
   "outputs": [
    {
     "data": {
      "text/plain": [
       "(3072,)"
      ]
     },
     "execution_count": 39,
     "metadata": {},
     "output_type": "execute_result"
    }
   ],
   "source": [
    "x_val[0].shape #We can see that the image is flattened, so we will make it 2 dimensional again:"
   ]
  },
  {
   "cell_type": "code",
   "execution_count": 40,
   "metadata": {},
   "outputs": [
    {
     "data": {
      "text/plain": [
       "(1, 3072)"
      ]
     },
     "execution_count": 40,
     "metadata": {},
     "output_type": "execute_result"
    }
   ],
   "source": [
    "test = np.expand_dims(x_val[0], axis=0)\n",
    "test.shape"
   ]
  },
  {
   "cell_type": "code",
   "execution_count": 41,
   "metadata": {},
   "outputs": [],
   "source": [
    "np.set_printoptions(precision=3)"
   ]
  },
  {
   "cell_type": "code",
   "execution_count": 42,
   "metadata": {},
   "outputs": [
    {
     "data": {
      "text/plain": [
       "array([[0.068, 0.056, 0.066, 0.111, 0.17 , 0.119, 0.276, 0.132, 0.   ,\n",
       "        0.001]], dtype=float32)"
      ]
     },
     "execution_count": 42,
     "metadata": {},
     "output_type": "execute_result"
    }
   ],
   "source": [
    "model_2.predict(test)"
   ]
  },
  {
   "cell_type": "code",
   "execution_count": 43,
   "metadata": {},
   "outputs": [
    {
     "data": {
      "text/plain": [
       "(10000, 10)"
      ]
     },
     "execution_count": 43,
     "metadata": {},
     "output_type": "execute_result"
    }
   ],
   "source": [
    "model_2.predict(x_val).shape"
   ]
  },
  {
   "cell_type": "code",
   "execution_count": 44,
   "metadata": {},
   "outputs": [
    {
     "name": "stdout",
     "output_type": "stream",
     "text": [
      "WARNING:tensorflow:From <ipython-input-44-d96bec2a87e6>:1: Sequential.predict_classes (from tensorflow.python.keras.engine.sequential) is deprecated and will be removed after 2021-01-01.\n",
      "Instructions for updating:\n",
      "Please use instead:* `np.argmax(model.predict(x), axis=-1)`,   if your model does multi-class classification   (e.g. if it uses a `softmax` last-layer activation).* `(model.predict(x) > 0.5).astype(\"int32\")`,   if your model does binary classification   (e.g. if it uses a `sigmoid` last-layer activation).\n"
     ]
    },
    {
     "data": {
      "text/plain": [
       "array([6], dtype=int64)"
      ]
     },
     "execution_count": 44,
     "metadata": {},
     "output_type": "execute_result"
    }
   ],
   "source": [
    "model_2.predict_classes(test)"
   ]
  },
  {
   "cell_type": "code",
   "execution_count": 45,
   "metadata": {},
   "outputs": [
    {
     "data": {
      "text/plain": [
       "array([6], dtype=uint8)"
      ]
     },
     "execution_count": 45,
     "metadata": {},
     "output_type": "execute_result"
    }
   ],
   "source": [
    "y_val[0]"
   ]
  },
  {
   "cell_type": "markdown",
   "metadata": {},
   "source": [
    "**Challenge:** Write a for loop where you print out the actual value and the predicted value for the first 10 images in the valuation dataset. "
   ]
  },
  {
   "cell_type": "code",
   "execution_count": 46,
   "metadata": {},
   "outputs": [
    {
     "name": "stdout",
     "output_type": "stream",
     "text": [
      "Actual value: 6 vs. predicted: 6\n",
      "Actual value: 9 vs. predicted: 1\n",
      "Actual value: 9 vs. predicted: 9\n",
      "Actual value: 4 vs. predicted: 6\n",
      "Actual value: 1 vs. predicted: 8\n",
      "Actual value: 1 vs. predicted: 1\n",
      "Actual value: 2 vs. predicted: 6\n",
      "Actual value: 7 vs. predicted: 7\n",
      "Actual value: 8 vs. predicted: 8\n",
      "Actual value: 3 vs. predicted: 9\n"
     ]
    }
   ],
   "source": [
    "for number in range(10):\n",
    "    test_img = np.expand_dims(x_val[number], axis=0)\n",
    "    predicted_val = model_2.predict_classes(test_img)[0]\n",
    "    print(f'Actual value: {y_val[number][0]} vs. predicted: {predicted_val}')"
   ]
  },
  {
   "cell_type": "markdown",
   "metadata": {},
   "source": [
    "# Evaluation"
   ]
  },
  {
   "cell_type": "code",
   "execution_count": 47,
   "metadata": {},
   "outputs": [
    {
     "data": {
      "text/plain": [
       "['loss', 'accuracy']"
      ]
     },
     "execution_count": 47,
     "metadata": {},
     "output_type": "execute_result"
    }
   ],
   "source": [
    "model_2.metrics_names"
   ]
  },
  {
   "cell_type": "code",
   "execution_count": 48,
   "metadata": {},
   "outputs": [
    {
     "name": "stdout",
     "output_type": "stream",
     "text": [
      "313/313 [==============================] - 0s 1ms/step - loss: 1.4176 - accuracy: 0.5030\n",
      "Test loss is 1.42 and test accuracy is 50.3%\n"
     ]
    }
   ],
   "source": [
    "test_loss, test_accuracy = model_2.evaluate(x_test, y_test)\n",
    "print(f'Test loss is {test_loss:0.3} and test accuracy is {test_accuracy:0.1%}')"
   ]
  },
  {
   "cell_type": "markdown",
   "metadata": {},
   "source": [
    "### Confusion Matrix"
   ]
  },
  {
   "cell_type": "code",
   "execution_count": 49,
   "metadata": {},
   "outputs": [],
   "source": [
    "predictions = model_2.predict_classes(x_test)\n",
    "conf_matrix = confusion_matrix(y_true=y_test, y_pred=predictions)"
   ]
  },
  {
   "cell_type": "code",
   "execution_count": 50,
   "metadata": {},
   "outputs": [
    {
     "data": {
      "text/plain": [
       "(10, 10)"
      ]
     },
     "execution_count": 50,
     "metadata": {},
     "output_type": "execute_result"
    }
   ],
   "source": [
    "conf_matrix.shape"
   ]
  },
  {
   "cell_type": "code",
   "execution_count": 51,
   "metadata": {},
   "outputs": [],
   "source": [
    "nr_rows = conf_matrix.shape[0]\n",
    "nr_cols = conf_matrix.shape[1]"
   ]
  },
  {
   "cell_type": "code",
   "execution_count": 52,
   "metadata": {},
   "outputs": [
    {
     "data": {
      "text/plain": [
       "693"
      ]
     },
     "execution_count": 52,
     "metadata": {},
     "output_type": "execute_result"
    }
   ],
   "source": [
    "conf_matrix.max()"
   ]
  },
  {
   "cell_type": "code",
   "execution_count": 53,
   "metadata": {},
   "outputs": [
    {
     "data": {
      "text/plain": [
       "5"
      ]
     },
     "execution_count": 53,
     "metadata": {},
     "output_type": "execute_result"
    }
   ],
   "source": [
    "conf_matrix.min()"
   ]
  },
  {
   "cell_type": "code",
   "execution_count": 54,
   "metadata": {},
   "outputs": [
    {
     "data": {
      "text/plain": [
       "array([626,  30,  37,  16,  33,  17,  14,  29, 159,  39], dtype=int64)"
      ]
     },
     "execution_count": 54,
     "metadata": {},
     "output_type": "execute_result"
    }
   ],
   "source": [
    "conf_matrix[0]"
   ]
  },
  {
   "cell_type": "code",
   "execution_count": 55,
   "metadata": {},
   "outputs": [
    {
     "data": {
      "image/png": "[encoded data removed]",
      "text/plain": [
       "<Figure size 665x665 with 2 Axes>"
      ]
     },
     "metadata": {
      "needs_background": "light"
     },
     "output_type": "display_data"
    }
   ],
   "source": [
    "plt.figure(figsize=(7,7), dpi=95)\n",
    "plt.imshow(conf_matrix, cmap=plt.cm.Greens)\n",
    "\n",
    "plt.title('Confusion Matrix', fontsize=16)\n",
    "plt.ylabel('Actual Labels', fontsize=12)\n",
    "plt.xlabel('Predicted Labels', fontsize=12)\n",
    "\n",
    "tick_marks = np.arange(NR_CLASSES)\n",
    "plt.yticks(tick_marks, LABEL_NAMES)\n",
    "plt.xticks(tick_marks, LABEL_NAMES)\n",
    "\n",
    "plt.colorbar()\n",
    "\n",
    "for i, j in itertools.product(range(nr_rows), range(nr_cols)):\n",
    "    plt.text(j, i, conf_matrix[i, j], horizontalalignment='center',\n",
    "            color='white' if conf_matrix[i, j] > conf_matrix.max()/2 else 'black')\n",
    "    \n",
    "\n",
    "plt.show()"
   ]
  },
  {
   "cell_type": "markdown",
   "metadata": {},
   "source": [
    "**Challenge:** What do the numbers down the diagonal represent? What do the other numbers (excluding the number in the diagonal) in a single row represent? Try to identify the false positives, false negatives, and the true positives in the confusion matrix."
   ]
  },
  {
   "cell_type": "code",
   "execution_count": 56,
   "metadata": {},
   "outputs": [
    {
     "data": {
      "text/plain": [
       "array([626, 616, 324, 255, 485, 404, 575, 560, 693, 492], dtype=int64)"
      ]
     },
     "execution_count": 56,
     "metadata": {},
     "output_type": "execute_result"
    }
   ],
   "source": [
    "# True Positives\n",
    "# 581 images with planes have been labeled as planes\n",
    "np.diag(conf_matrix)\n",
    "\n",
    "#The false positives are the columns values except the diagonal\n",
    "#The false negatives are the rows values except the diagonal"
   ]
  },
  {
   "cell_type": "code",
   "execution_count": 57,
   "metadata": {},
   "outputs": [
    {
     "data": {
      "text/plain": [
       "array([0.626, 0.616, 0.324, 0.255, 0.485, 0.404, 0.575, 0.56 , 0.693,\n",
       "       0.492])"
      ]
     },
     "execution_count": 57,
     "metadata": {},
     "output_type": "execute_result"
    }
   ],
   "source": [
    "recall = np.diag(conf_matrix) / np.sum(conf_matrix, axis=1)\n",
    "recall"
   ]
  },
  {
   "cell_type": "code",
   "execution_count": 58,
   "metadata": {},
   "outputs": [
    {
     "data": {
      "text/plain": [
       "array([0.495, 0.625, 0.398, 0.371, 0.418, 0.447, 0.544, 0.544, 0.545,\n",
       "       0.595])"
      ]
     },
     "execution_count": 58,
     "metadata": {},
     "output_type": "execute_result"
    }
   ],
   "source": [
    "precision = np.diag(conf_matrix) / np.sum(conf_matrix, axis=0)\n",
    "precision"
   ]
  },
  {
   "cell_type": "code",
   "execution_count": 59,
   "metadata": {},
   "outputs": [
    {
     "name": "stdout",
     "output_type": "stream",
     "text": [
      "Model 2 recall score is 50.30%\n"
     ]
    }
   ],
   "source": [
    "avg_recall = np.mean(recall)\n",
    "print(f'Model 2 recall score is {avg_recall:.2%}')"
   ]
  },
  {
   "cell_type": "markdown",
   "metadata": {},
   "source": [
    "**Challenge:** Calculate the average precision for the model as a whole. Print this out. Then calculate the f-score for the model as a whole. "
   ]
  },
  {
   "cell_type": "code",
   "execution_count": 60,
   "metadata": {},
   "outputs": [
    {
     "name": "stdout",
     "output_type": "stream",
     "text": [
      "Model 2 precision score is 49.82%\n",
      "Model 2 f score is 50.06%\n"
     ]
    }
   ],
   "source": [
    "avg_precision = np.mean(precision)\n",
    "print(f'Model 2 precision score is {avg_precision:.2%}')\n",
    "\n",
    "f1_score = 2 * (avg_precision * avg_recall) / (avg_precision + avg_recall)\n",
    "print(f'Model 2 f score is {f1_score:.2%}')"
   ]
  },
  {
   "cell_type": "code",
   "execution_count": null,
   "metadata": {},
   "outputs": [],
   "source": []
  }
 ],
 "metadata": {
  "kernelspec": {
   "display_name": "Python 3",
   "language": "python",
   "name": "python3"
  },
  "language_info": {
   "codemirror_mode": {
    "name": "ipython",
    "version": 3
   },
   "file_extension": ".py",
   "mimetype": "text/x-python",
   "name": "python",
   "nbconvert_exporter": "python",
   "pygments_lexer": "ipython3",
   "version": "3.8.3"
  }
 },
 "nbformat": 4,
 "nbformat_minor": 2
}
