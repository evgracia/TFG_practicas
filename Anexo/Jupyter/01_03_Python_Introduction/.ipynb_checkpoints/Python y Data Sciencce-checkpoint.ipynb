{
 "cells": [
  {
   "cell_type": "markdown",
   "metadata": {},
   "source": [
    "# $$Introduction\\;to\\;Python\\;$$\n",
    "## $$for\\;DataScience\\;and\\;Machine\\;Learning$$"
   ]
  },
  {
   "cell_type": "markdown",
   "metadata": {},
   "source": [
    "# *Index*\n",
    "\n",
    "       1. Tricks of jupyter notebook and Markdown\n",
    "       2. Basics of Python\n",
    "       3. DataFrame\n",
    "           Bunch Objects\n",
    "       4. Tuples\n",
    "       5. Data Structures: Arrays, Numpy arrays, Lists, Dictionaries, Tuples, Sets\n",
    "       6. Plot"
   ]
  },
  {
   "cell_type": "markdown",
   "metadata": {},
   "source": [
    "# 1.  Tricks of jupyter notebook and Markdown"
   ]
  },
  {
   "cell_type": "markdown",
   "metadata": {},
   "source": [
    "- shifth + tab : To see information from a function put the mouse in its name an press those buttons"
   ]
  },
  {
   "cell_type": "markdown",
   "metadata": {},
   "source": [
    "All of this markup notation comes from LaTex\n",
    "\n",
    "- *italics*, **bold**, `code`\n",
    "- For the title we use # Title and then shift+enter or ##  or  ### that changes the boldness and size\n",
    "- For mathematical ecuations: $f(x) = a + b $ and then shifth+enter ($$ if you want it in the center)\n",
    "- If you want spaces in the math equation: \\; or \\: or \\, (from big to small)\n",
    "\n",
    "Links to pages:\n",
    "[Source: Original research paper](https://deepblue.lib.umich.edu/bitstream/handle/2027.42/22636/0000186.pdf?sequence=1&isAllowed=y)"
   ]
  },
  {
   "cell_type": "markdown",
   "metadata": {},
   "source": [
    "# 2. Basics of python"
   ]
  },
  {
   "cell_type": "markdown",
   "metadata": {},
   "source": [
    "- print('a \\n', b) if you want b in the next line \n",
    "- to execute CMD we use \\%, ex: \\% ls -l ..\\\n",
    "- to execute python commands, we use !, ex: \\!pip install sklearn"
   ]
  },
  {
   "cell_type": "code",
   "execution_count": 1,
   "metadata": {
    "collapsed": true
   },
   "outputs": [
    {
     "name": "stdout",
     "output_type": "stream",
     "text": [
      "The Zen of Python, by Tim Peters\n",
      "\n",
      "Beautiful is better than ugly.\n",
      "Explicit is better than implicit.\n",
      "Simple is better than complex.\n",
      "Complex is better than complicated.\n",
      "Flat is better than nested.\n",
      "Sparse is better than dense.\n",
      "Readability counts.\n",
      "Special cases aren't special enough to break the rules.\n",
      "Although practicality beats purity.\n",
      "Errors should never pass silently.\n",
      "Unless explicitly silenced.\n",
      "In the face of ambiguity, refuse the temptation to guess.\n",
      "There should be one-- and preferably only one --obvious way to do it.\n",
      "Although that way may not be obvious at first unless you're Dutch.\n",
      "Now is better than never.\n",
      "Although never is often better than *right* now.\n",
      "If the implementation is hard to explain, it's a bad idea.\n",
      "If the implementation is easy to explain, it may be a good idea.\n",
      "Namespaces are one honking great idea -- let's do more of those!\n"
     ]
    }
   ],
   "source": [
    "import this"
   ]
  },
  {
   "cell_type": "code",
   "execution_count": 3,
   "metadata": {},
   "outputs": [
    {
     "name": "stdout",
     "output_type": "stream",
     "text": [
      "<class 'int'>\n"
     ]
    }
   ],
   "source": [
    "b = 1 // 3\n",
    "print (type(b+1))\n",
    "# print (3%0)\n"
   ]
  },
  {
   "cell_type": "code",
   "execution_count": 41,
   "metadata": {},
   "outputs": [
    {
     "name": "stdout",
     "output_type": "stream",
     "text": [
      "3.141592653589793\n"
     ]
    }
   ],
   "source": [
    "import math\n",
    "print(math.pi)"
   ]
  },
  {
   "cell_type": "code",
   "execution_count": 6,
   "metadata": {},
   "outputs": [
    {
     "name": "stdout",
     "output_type": "stream",
     "text": [
      "The first element is: 1\n",
      "The first element is: 1\n"
     ]
    }
   ],
   "source": [
    "my_list = [1,2,3]\n",
    "print('The first element is:', my_list[0])\n",
    "print(f'The first element is: {my_list[0]}')"
   ]
  },
  {
   "cell_type": "code",
   "execution_count": 5,
   "metadata": {},
   "outputs": [
    {
     "name": "stdout",
     "output_type": "stream",
     "text": [
      "It is 15:27\n"
     ]
    }
   ],
   "source": [
    "from time import strftime\n",
    "\n",
    "personalized_string = f'It is {strftime(\"%H:%M\")}'\n",
    "print(personalized_string)"
   ]
  },
  {
   "cell_type": "code",
   "execution_count": 2,
   "metadata": {
    "collapsed": true
   },
   "outputs": [
    {
     "name": "stdout",
     "output_type": "stream",
     "text": [
      "value of i is 0 and j is 0\n",
      "value of i is 0 and j is 1\n",
      "value of i is 0 and j is 2\n",
      "value of i is 1 and j is 0\n",
      "value of i is 1 and j is 1\n",
      "value of i is 1 and j is 2\n",
      "value of i is 2 and j is 0\n",
      "value of i is 2 and j is 1\n",
      "value of i is 2 and j is 2\n"
     ]
    }
   ],
   "source": [
    "# How to print actual information of our funtion\n",
    "\n",
    "for i in range(3):\n",
    "    for j in range(3):\n",
    "        print(f'value of i is {i} and j is {j}') #print(f'..{value}..')"
   ]
  },
  {
   "cell_type": "code",
   "execution_count": 8,
   "metadata": {},
   "outputs": [
    {
     "data": {
      "text/plain": [
       "NoneType"
      ]
     },
     "execution_count": 8,
     "metadata": {},
     "output_type": "execute_result"
    }
   ],
   "source": [
    "# empty vble:\n",
    "\n",
    "my_var = None\n",
    "type(my_var)"
   ]
  },
  {
   "cell_type": "code",
   "execution_count": null,
   "metadata": {},
   "outputs": [],
   "source": [
    "# Create directory\n",
    "# try\n",
    "\n",
    "\n",
    "# From 10_Neural_Keras...\n",
    "import os\n",
    "\n",
    "LOG_DIR = ...\n",
    "model = ...\n",
    "\n",
    "def get_tensorboard(model_name):\n",
    "\n",
    "    folder_name = f'{model_name} at {strftime(\"%H %M\")}' #To print the hour -> search for strftime behavior python.org\n",
    "    dir_paths = os.path.join(LOG_DIR, folder_name) #Create the path #os module: operating system\n",
    "\n",
    "    #Now we are going to create a directory including a subdirectory, that is, 2 folders.\n",
    "    try:\n",
    "        os.makedirs(dir_paths) #this create the directory, with the subdirectory\n",
    "                               #but if you created it before, it may get an error, that is why we use try. \n",
    "    except OSError as err:     #If it has this error, we convert it into string and print it\n",
    "        print(err.strerror)\n",
    "    else:\n",
    "        print('Successfully created directory')\n",
    "\n",
    "    return TensorBoard(log_dir=dir_paths)"
   ]
  },
  {
   "cell_type": "code",
   "execution_count": null,
   "metadata": {},
   "outputs": [],
   "source": [
    "# nested loops and itertools product\n",
    "import itertools\n",
    "\n",
    "#class 169, min 16:35"
   ]
  },
  {
   "cell_type": "markdown",
   "metadata": {},
   "source": [
    "# 3. DataFrame\n"
   ]
  },
  {
   "cell_type": "code",
   "execution_count": 6,
   "metadata": {},
   "outputs": [],
   "source": [
    "import pandas as pd\n",
    "from pandas import DataFrame"
   ]
  },
  {
   "cell_type": "code",
   "execution_count": 7,
   "metadata": {},
   "outputs": [
    {
     "data": {
      "text/plain": [
       "pandas.core.frame.DataFrame"
      ]
     },
     "execution_count": 7,
     "metadata": {},
     "output_type": "execute_result"
    }
   ],
   "source": [
    "data = pd.read_csv('lsd_math_score_data.csv')\n",
    "type(data)"
   ]
  },
  {
   "cell_type": "markdown",
   "metadata": {},
   "source": [
    "### 3.1 Visualización del Dataframe"
   ]
  },
  {
   "cell_type": "code",
   "execution_count": 8,
   "metadata": {},
   "outputs": [
    {
     "data": {
      "text/html": [
       "<div>\n",
       "<style scoped>\n",
       "    .dataframe tbody tr th:only-of-type {\n",
       "        vertical-align: middle;\n",
       "    }\n",
       "\n",
       "    .dataframe tbody tr th {\n",
       "        vertical-align: top;\n",
       "    }\n",
       "\n",
       "    .dataframe thead th {\n",
       "        text-align: right;\n",
       "    }\n",
       "</style>\n",
       "<table border=\"1\" class=\"dataframe\">\n",
       "  <thead>\n",
       "    <tr style=\"text-align: right;\">\n",
       "      <th></th>\n",
       "      <th>Time_Delay_in_Minutes</th>\n",
       "      <th>LSD_ppm</th>\n",
       "      <th>Avg_Math_Test_Score</th>\n",
       "    </tr>\n",
       "  </thead>\n",
       "  <tbody>\n",
       "    <tr>\n",
       "      <th>0</th>\n",
       "      <td>5</td>\n",
       "      <td>1.17</td>\n",
       "      <td>78.93</td>\n",
       "    </tr>\n",
       "    <tr>\n",
       "      <th>1</th>\n",
       "      <td>15</td>\n",
       "      <td>2.97</td>\n",
       "      <td>58.20</td>\n",
       "    </tr>\n",
       "    <tr>\n",
       "      <th>2</th>\n",
       "      <td>30</td>\n",
       "      <td>3.26</td>\n",
       "      <td>67.47</td>\n",
       "    </tr>\n",
       "    <tr>\n",
       "      <th>3</th>\n",
       "      <td>60</td>\n",
       "      <td>4.69</td>\n",
       "      <td>37.47</td>\n",
       "    </tr>\n",
       "    <tr>\n",
       "      <th>4</th>\n",
       "      <td>120</td>\n",
       "      <td>5.83</td>\n",
       "      <td>45.65</td>\n",
       "    </tr>\n",
       "    <tr>\n",
       "      <th>5</th>\n",
       "      <td>240</td>\n",
       "      <td>6.00</td>\n",
       "      <td>32.92</td>\n",
       "    </tr>\n",
       "    <tr>\n",
       "      <th>6</th>\n",
       "      <td>480</td>\n",
       "      <td>6.41</td>\n",
       "      <td>29.97</td>\n",
       "    </tr>\n",
       "  </tbody>\n",
       "</table>\n",
       "</div>"
      ],
      "text/plain": [
       "   Time_Delay_in_Minutes  LSD_ppm  Avg_Math_Test_Score\n",
       "0                      5     1.17                78.93\n",
       "1                     15     2.97                58.20\n",
       "2                     30     3.26                67.47\n",
       "3                     60     4.69                37.47\n",
       "4                    120     5.83                45.65\n",
       "5                    240     6.00                32.92\n",
       "6                    480     6.41                29.97"
      ]
     },
     "execution_count": 8,
     "metadata": {},
     "output_type": "execute_result"
    }
   ],
   "source": [
    "#No hace falta poner print\n",
    "data"
   ]
  },
  {
   "cell_type": "code",
   "execution_count": 22,
   "metadata": {},
   "outputs": [
    {
     "data": {
      "text/plain": [
       "0    13.00\n",
       "1     2.97\n",
       "2     3.26\n",
       "3     4.69\n",
       "4     5.83\n",
       "5     6.00\n",
       "6     6.41\n",
       "Name: LSD_ppm, dtype: float64"
      ]
     },
     "execution_count": 22,
     "metadata": {},
     "output_type": "execute_result"
    }
   ],
   "source": [
    "# To access a COLUMN, just put its name:\n",
    "data.LSD_ppm\n",
    "# Or the same:\n",
    "data['LSD_ppm']"
   ]
  },
  {
   "cell_type": "code",
   "execution_count": 23,
   "metadata": {},
   "outputs": [
    {
     "data": {
      "text/plain": [
       "pandas.core.series.Series"
      ]
     },
     "execution_count": 23,
     "metadata": {},
     "output_type": "execute_result"
    }
   ],
   "source": [
    "#Note that it is not a dataframe\n",
    "# We see how to work with this later (3.3)\n",
    "type(data['LSD_ppm'])"
   ]
  },
  {
   "cell_type": "code",
   "execution_count": 20,
   "metadata": {},
   "outputs": [
    {
     "data": {
      "text/plain": [
       "67.47"
      ]
     },
     "execution_count": 20,
     "metadata": {},
     "output_type": "execute_result"
    }
   ],
   "source": [
    "# To access a VALUE:\n",
    "\n",
    "# OP A:\n",
    "#    [2 (name of that index), name of the column]\n",
    "data.at[2,'Avg_Math_Test_Score']\n",
    "\n",
    "# OP B:\n",
    "#    by position\n",
    "data.iat[2, 2]\n",
    "\n",
    "# Error 1:\n",
    "#data[2, 'Avg_Math_Test_Score']\n",
    "\n",
    "# Error 2: \n",
    "#data.at['Avg_Math_Test_Score', 2]\n",
    "# yo: Los data frames se almacenan por líneas y\n",
    "#     cada línea es un diccionario con sus clave valor"
   ]
  },
  {
   "cell_type": "code",
   "execution_count": 15,
   "metadata": {},
   "outputs": [
    {
     "data": {
      "text/html": [
       "<div>\n",
       "<style scoped>\n",
       "    .dataframe tbody tr th:only-of-type {\n",
       "        vertical-align: middle;\n",
       "    }\n",
       "\n",
       "    .dataframe tbody tr th {\n",
       "        vertical-align: top;\n",
       "    }\n",
       "\n",
       "    .dataframe thead th {\n",
       "        text-align: right;\n",
       "    }\n",
       "</style>\n",
       "<table border=\"1\" class=\"dataframe\">\n",
       "  <thead>\n",
       "    <tr style=\"text-align: right;\">\n",
       "      <th></th>\n",
       "      <th>Time_Delay_in_Minutes</th>\n",
       "      <th>LSD_ppm</th>\n",
       "      <th>Avg_Math_Test_Score</th>\n",
       "    </tr>\n",
       "  </thead>\n",
       "  <tbody>\n",
       "    <tr>\n",
       "      <th>2</th>\n",
       "      <td>30</td>\n",
       "      <td>3.26</td>\n",
       "      <td>67.47</td>\n",
       "    </tr>\n",
       "    <tr>\n",
       "      <th>3</th>\n",
       "      <td>60</td>\n",
       "      <td>4.69</td>\n",
       "      <td>37.47</td>\n",
       "    </tr>\n",
       "    <tr>\n",
       "      <th>4</th>\n",
       "      <td>120</td>\n",
       "      <td>5.83</td>\n",
       "      <td>45.65</td>\n",
       "    </tr>\n",
       "  </tbody>\n",
       "</table>\n",
       "</div>"
      ],
      "text/plain": [
       "   Time_Delay_in_Minutes  LSD_ppm  Avg_Math_Test_Score\n",
       "2                     30     3.26                67.47\n",
       "3                     60     4.69                37.47\n",
       "4                    120     5.83                45.65"
      ]
     },
     "execution_count": 15,
     "metadata": {},
     "output_type": "execute_result"
    }
   ],
   "source": [
    "# If you want to select MORE THAN ONE VALUE you can use:\n",
    "data.iloc[2:5] #Note that the first entry has index 0"
   ]
  },
  {
   "cell_type": "code",
   "execution_count": 16,
   "metadata": {},
   "outputs": [
    {
     "data": {
      "text/plain": [
       "2    3.26\n",
       "3    4.69\n",
       "4    5.83\n",
       "Name: LSD_ppm, dtype: float64"
      ]
     },
     "execution_count": 16,
     "metadata": {},
     "output_type": "execute_result"
    }
   ],
   "source": [
    "data.LSD_ppm.iloc[2:5]"
   ]
  },
  {
   "cell_type": "markdown",
   "metadata": {},
   "source": [
    "### 3.2 Modify or create new DataFrames"
   ]
  },
  {
   "cell_type": "code",
   "execution_count": 15,
   "metadata": {
    "collapsed": true
   },
   "outputs": [
    {
     "data": {
      "text/html": [
       "<div>\n",
       "<style scoped>\n",
       "    .dataframe tbody tr th:only-of-type {\n",
       "        vertical-align: middle;\n",
       "    }\n",
       "\n",
       "    .dataframe tbody tr th {\n",
       "        vertical-align: top;\n",
       "    }\n",
       "\n",
       "    .dataframe thead th {\n",
       "        text-align: right;\n",
       "    }\n",
       "</style>\n",
       "<table border=\"1\" class=\"dataframe\">\n",
       "  <thead>\n",
       "    <tr style=\"text-align: right;\">\n",
       "      <th></th>\n",
       "      <th>LSD_ppm</th>\n",
       "    </tr>\n",
       "  </thead>\n",
       "  <tbody>\n",
       "    <tr>\n",
       "      <th>0</th>\n",
       "      <td>1.17</td>\n",
       "    </tr>\n",
       "    <tr>\n",
       "      <th>1</th>\n",
       "      <td>2.97</td>\n",
       "    </tr>\n",
       "    <tr>\n",
       "      <th>2</th>\n",
       "      <td>3.26</td>\n",
       "    </tr>\n",
       "    <tr>\n",
       "      <th>3</th>\n",
       "      <td>4.69</td>\n",
       "    </tr>\n",
       "    <tr>\n",
       "      <th>4</th>\n",
       "      <td>5.83</td>\n",
       "    </tr>\n",
       "    <tr>\n",
       "      <th>5</th>\n",
       "      <td>6.00</td>\n",
       "    </tr>\n",
       "    <tr>\n",
       "      <th>6</th>\n",
       "      <td>6.41</td>\n",
       "    </tr>\n",
       "  </tbody>\n",
       "</table>\n",
       "</div>"
      ],
      "text/plain": [
       "   LSD_ppm\n",
       "0     1.17\n",
       "1     2.97\n",
       "2     3.26\n",
       "3     4.69\n",
       "4     5.83\n",
       "5     6.00\n",
       "6     6.41"
      ]
     },
     "execution_count": 15,
     "metadata": {},
     "output_type": "execute_result"
    }
   ],
   "source": [
    "# Nuevo dataframe con sólo una de las columnas:\n",
    "X = DataFrame(data, columns = ['LSD_ppm'])\n",
    "X"
   ]
  },
  {
   "cell_type": "code",
   "execution_count": 5,
   "metadata": {
    "collapsed": true
   },
   "outputs": [
    {
     "name": "stdout",
     "output_type": "stream",
     "text": [
      "   Time_Delay_in_Minutes  LSD_ppm  Avg_Math_Test_Score\n",
      "0                      5     1.17                78.93\n",
      "1                     15     2.97                58.20\n",
      "2                     30     3.26                67.47\n",
      "3                     60     4.69                37.47\n",
      "4                    120     5.83                45.65\n",
      "5                    240     6.00                32.92\n",
      "6                    480     6.41                29.97\n",
      "   Time_Delay_in_Minutes  LSD_ppm  Avg_Math_Test_Score  High_Score\n",
      "0                      5     1.17                78.93         100\n",
      "1                     15     2.97                58.20         100\n",
      "2                     30     3.26                67.47         100\n",
      "3                     60     4.69                37.47         100\n",
      "4                    120     5.83                45.65         100\n",
      "5                    240     6.00                32.92         100\n",
      "6                    480     6.41                29.97         100\n",
      "   Time_Delay_in_Minutes  LSD_ppm  Avg_Math_Test_Score  High_Score\n",
      "0                      5     1.17                78.93      178.93\n",
      "1                     15     2.97                58.20      158.20\n",
      "2                     30     3.26                67.47      167.47\n",
      "3                     60     4.69                37.47      137.47\n",
      "4                    120     5.83                45.65      145.65\n",
      "5                    240     6.00                32.92      132.92\n",
      "6                    480     6.41                29.97      129.97\n",
      "   Time_Delay_in_Minutes  LSD_ppm  Avg_Math_Test_Score\n",
      "0                      5     1.17                78.93\n",
      "1                     15     2.97                58.20\n",
      "2                     30     3.26                67.47\n",
      "3                     60     4.69                37.47\n",
      "4                    120     5.83                45.65\n",
      "5                    240     6.00                32.92\n",
      "6                    480     6.41                29.97\n"
     ]
    }
   ],
   "source": [
    "# MODIFICAR UN DATAFRAME\n",
    "print(data)\n",
    "#Create a new column\n",
    "data['High_Score'] = 100\n",
    "print(data)\n",
    "#Overwrite values in rows for High_Score to equal average score + 100\n",
    "data['High_Score'] = data['High_Score'] + data['Avg_Math_Test_Score']\n",
    "print(data)\n",
    "#Delete a column\n",
    "del data['High_Score']\n",
    "print(data)"
   ]
  },
  {
   "cell_type": "code",
   "execution_count": 9,
   "metadata": {},
   "outputs": [],
   "source": [
    "# Look from 05 Bayes Classifier:\n",
    "#    Remove System File Entries from Dataframe\n",
    "#    Add Documents ID's to track emails in dataset\n",
    "# It explains how to UPDATE (inplace) datasets and how to change the index\n",
    "# inplace\n"
   ]
  },
  {
   "cell_type": "code",
   "execution_count": 18,
   "metadata": {},
   "outputs": [
    {
     "name": "stdout",
     "output_type": "stream",
     "text": [
      "13.0\n"
     ]
    },
    {
     "name": "stderr",
     "output_type": "stream",
     "text": [
      "<ipython-input-18-1c5fa7d6ad49>:1: SettingWithCopyWarning: \n",
      "A value is trying to be set on a copy of a slice from a DataFrame\n",
      "\n",
      "See the caveats in the documentation: https://pandas.pydata.org/pandas-docs/stable/user_guide/indexing.html#returning-a-view-versus-a-copy\n",
      "  data['LSD_ppm'][0]=13.\n"
     ]
    }
   ],
   "source": [
    "data['LSD_ppm'][0]=13.\n",
    "print(data['LSD_ppm'][0])"
   ]
  },
  {
   "cell_type": "markdown",
   "metadata": {},
   "source": [
    "### 3.3 Series, how to work with them"
   ]
  },
  {
   "cell_type": "code",
   "execution_count": 24,
   "metadata": {
    "collapsed": true
   },
   "outputs": [
    {
     "name": "stdout",
     "output_type": "stream",
     "text": [
      "0    13.00\n",
      "1     2.97\n",
      "2     3.26\n",
      "3     4.69\n",
      "4     5.83\n",
      "5     6.00\n",
      "6     6.41\n",
      "Name: LSD_ppm, dtype: float64\n",
      "The type of lsd is:  <class 'pandas.core.series.Series'>\n"
     ]
    }
   ],
   "source": [
    "#How to get one of the columns\n",
    "lsd = data['LSD_ppm']\n",
    "avg = data['Avg_Math_Test_Score']\n",
    "\n",
    "print(lsd)\n",
    "print('The type of lsd is: ',type(lsd)) #Not a DataFrame!!!"
   ]
  },
  {
   "cell_type": "code",
   "execution_count": 31,
   "metadata": {
    "collapsed": true
   },
   "outputs": [
    {
     "data": {
      "text/plain": [
       "6.41     1\n",
       "3.26     1\n",
       "5.83     1\n",
       "4.69     1\n",
       "2.97     1\n",
       "6.00     1\n",
       "13.00    1\n",
       "Name: LSD_ppm, dtype: int64"
      ]
     },
     "execution_count": 31,
     "metadata": {},
     "output_type": "execute_result"
    }
   ],
   "source": [
    "#To see how many elementes share their value:\n",
    "data['LSD_ppm'].value_counts()    #This is also a series, so to pick one column we can:\n",
    "#We can see that there is only one element with those values"
   ]
  },
  {
   "cell_type": "code",
   "execution_count": 29,
   "metadata": {},
   "outputs": [
    {
     "data": {
      "text/plain": [
       "Float64Index([6.41, 3.26, 5.83, 4.69, 2.97, 6.0, 13.0], dtype='float64')"
      ]
     },
     "execution_count": 29,
     "metadata": {},
     "output_type": "execute_result"
    }
   ],
   "source": [
    "data['LSD_ppm'].value_counts().index\n",
    "#data['LSD_ppm'].value_counts().axes[0]  #The same as above\n",
    "\n",
    "# Note thas if you want the values perse\n",
    "# ([1, 1, 1, ...] in this case), that is the series itself, \n",
    "# What we made before was to get the indices\n",
    "# This would give an error:\n",
    "#data['LSD_ppm'].value_counts().axes[1]"
   ]
  },
  {
   "cell_type": "code",
   "execution_count": 40,
   "metadata": {},
   "outputs": [
    {
     "name": "stdout",
     "output_type": "stream",
     "text": [
      "   LSD_ppm  Avg_Math_Test_Score\n",
      "0    13.00                78.93\n",
      "1     2.97                58.20\n",
      "2     3.26                67.47\n",
      "3     4.69                37.47\n",
      "4     5.83                45.65\n",
      "5     6.00                32.92\n",
      "6     6.41                29.97\n",
      "The type of cleanData is:  <class 'pandas.core.frame.DataFrame'>\n",
      "The type of y is:  <class 'pandas.core.frame.DataFrame'>\n",
      "The type of x is:  <class 'pandas.core.series.Series'>\n"
     ]
    }
   ],
   "source": [
    "# Create a list called columnList.\n",
    "# Put 'LSD_ppm' and 'Avg_Math_Test_Score' inside.\n",
    "\n",
    "columnList = ['LSD_ppm', 'Avg_Math_Test_Score']\n",
    "#print('The list of colums is: ', columnList)\n",
    "#print('The second element of the list is: ', columnList[1])\n",
    "\n",
    "# Create a new DataFrame:\n",
    "\n",
    "#cleanData = data[['LSD_ppm', 'Avg_Math_Test_Score']]\n",
    "cleanData = data[columnList]\n",
    "print(cleanData)\n",
    "print('The type of cleanData is: ',type(cleanData))\n",
    "\n",
    "y = data[['Avg_Math_Test_Score']]\n",
    "print('The type of y is: ',type(y))\n",
    "x = data['Avg_Math_Test_Score']\n",
    "print('The type of x is: ',type(x))"
   ]
  },
  {
   "cell_type": "markdown",
   "metadata": {},
   "source": [
    "## Bunch objects"
   ]
  },
  {
   "cell_type": "code",
   "execution_count": 9,
   "metadata": {},
   "outputs": [
    {
     "data": {
      "text/plain": [
       "sklearn.utils.Bunch"
      ]
     },
     "execution_count": 9,
     "metadata": {},
     "output_type": "execute_result"
    }
   ],
   "source": [
    "from sklearn.datasets import load_boston #We take a dataset from Python libraries to practice\n",
    "boston_dataset = load_boston() #This is the function that return dataset, and store it in boston_dataset\n",
    "type(boston_dataset)"
   ]
  },
  {
   "cell_type": "code",
   "execution_count": 10,
   "metadata": {},
   "outputs": [],
   "source": [
    "#Look at 04 Multivariable Regression, we see all of the information and then we create a pandas dataframe with it"
   ]
  },
  {
   "cell_type": "markdown",
   "metadata": {},
   "source": [
    "# 4. Python Tuples"
   ]
  },
  {
   "cell_type": "code",
   "execution_count": 45,
   "metadata": {},
   "outputs": [
    {
     "name": "stdout",
     "output_type": "stream",
     "text": [
      "7\n",
      "the main couse is bacon\n"
     ]
    }
   ],
   "source": [
    "#1. They can hold different types -> HETEROGENEOUS\n",
    "breakfast = 'bacon', 'eggs', 7      \n",
    "print(breakfast[2])\n",
    "\n",
    "#2. They cannot be changed, this would raise an error:\n",
    "#breakfast[0]= 'hii'                \n",
    "\n",
    "#3. One single value in a tuple: \n",
    "tuple_single_value = 'hi',          \n",
    "#type(tuple_single_value)\n",
    "\n",
    "#4. Sequence unpacking\n",
    "main, side, hour = breakfast        \n",
    "print('the main couse is ' + main)\n",
    "#type(main)"
   ]
  },
  {
   "cell_type": "markdown",
   "metadata": {},
   "source": [
    "# 5.  Arrays, Numpy Arrays and Lists, Sets"
   ]
  },
  {
   "cell_type": "markdown",
   "metadata": {},
   "source": [
    "### Set\n",
    "> used in 05 Bayes classifier  \n",
    "\n",
    "> A ***set*** is an unordered list where the elements are not repeated,  \n",
    "> so it comes really handy for checking membership or looking for differences (is this element in this list?)"
   ]
  },
  {
   "cell_type": "markdown",
   "metadata": {},
   "source": [
    "### Advanced Numpy Array Practice:\n",
    "Methods and techniques for working with multi-dimensional arrays"
   ]
  },
  {
   "cell_type": "code",
   "execution_count": 13,
   "metadata": {},
   "outputs": [],
   "source": [
    "import numpy as np"
   ]
  },
  {
   "cell_type": "code",
   "execution_count": 14,
   "metadata": {},
   "outputs": [
    {
     "name": "stdout",
     "output_type": "stream",
     "text": [
      "The type of the np.array is:  <class 'numpy.ndarray'>  ,that is a numpy n dimensional array \n",
      "To see the dimensions we use: .shape , so we get:  (1, 2)\n",
      "(2, 1)\n",
      "(2, 2)\n",
      "Suga\n",
      "[['Suga' 'rapper']\n",
      " ['RM' 'leader']\n",
      " ['J-hope' 'dancer']]\n",
      "Printing nicknames... ['Suga' 'RM' 'J-hope']\n",
      "Printing roles... ['rapper' 'leader' 'dancer' 'vocal']\n"
     ]
    }
   ],
   "source": [
    "#dummy array:\n",
    "new_member = np.array([['J-hope', 'dancer']]) #1 row,, 2 columns (2 dim)\n",
    "print('The type of the np.array is: ', type(new_member), ' ,that is a numpy n dimensional array ')\n",
    "print('To see the dimensions we use: .shape , so we get: ',new_member.shape)\n",
    "\n",
    "\n",
    "#diff forms to transpose:\n",
    "reshape = np.array([['J-hope', 'dancer']]).transpose()\n",
    "#reshape = np.array([['J-hope', 'dancer']]).reshape (2,1) #number of (rows, columns)\n",
    "print(reshape.shape)\n",
    "\n",
    "rap_line = np.array([['Suga', 'rapper'], ['RM', 'leader']])\n",
    "print(rap_line.shape) #2 rows, 2 columns\n",
    "print(rap_line[0][0])\n",
    "\n",
    "\n",
    "#Add an element (vs 1) by rows:\n",
    "rap_line_BTS = np.append(arr = rap_line, values = new_member, axis = 0) \n",
    "    #The axis is to add the values as a row(0) or as a column(1) \n",
    "print(rap_line_BTS) #(3rows, 2 columns)\n",
    "\n",
    "#Add an element (vs 1) by columns:\n",
    "#smthg = np.append(arr = rap_line, values = new_member.reshape(2,1), axis = 1)\n",
    "#print(smthg) #(2rows, 3 columns)\n",
    "\n",
    "print('Printing nicknames...', rap_line_BTS[:,0]) #take all the rows from the first column\n",
    "\n",
    "\n",
    "#Add an element vs(2)\n",
    "#rap_line_BTS = np.append(arr = rap_line_BTS, values = [['JK', 'vocal']], axis = 0)\n",
    "rap_line_BTS = np.concatenate((rap_line_BTS,[['JK', 'vocal']] ),axis=0)\n",
    "print('Printing roles...', rap_line_BTS[:,1])\n"
   ]
  },
  {
   "cell_type": "markdown",
   "metadata": {},
   "source": [
    "# 7. Plot"
   ]
  },
  {
   "cell_type": "markdown",
   "metadata": {},
   "source": [
    "Look at the different practices we made"
   ]
  },
  {
   "cell_type": "code",
   "execution_count": null,
   "metadata": {},
   "outputs": [],
   "source": []
  }
 ],
 "metadata": {
  "kernelspec": {
   "display_name": "Python 3",
   "language": "python",
   "name": "python3"
  },
  "language_info": {
   "codemirror_mode": {
    "name": "ipython",
    "version": 3
   },
   "file_extension": ".py",
   "mimetype": "text/x-python",
   "name": "python",
   "nbconvert_exporter": "python",
   "pygments_lexer": "ipython3",
   "version": "3.8.3"
  }
 },
 "nbformat": 4,
 "nbformat_minor": 4
}
